{
 "cells": [
  {
   "cell_type": "code",
   "execution_count": null,
   "metadata": {},
   "outputs": [],
   "source": [
    "%load_ext autoreload\n",
    "%autoreload 2\n",
    "\n",
    "from __future__ import absolute_import, division, print_function\n",
    "\n",
    "\n",
    "import tensorflow as tf\n",
    "import numpy as np\n",
    "import cv2\n",
    "import os\n",
    "import facenet\n",
    "import detect_face\n",
    "from tqdm import tqdm"
   ]
  },
  {
   "cell_type": "code",
   "execution_count": null,
   "metadata": {
    "collapsed": true
   },
   "outputs": [],
   "source": [
    "path_to_mtcnn_model = './models'\n",
    "datadir = '/media/neelansh/Windows/Users/neela/Documents/facerecog_data/vggface2_test'\n",
    "outdir = '/media/neelansh/Windows/Users/neela/Documents/facerecog_data/vggface2_aligned'\n",
    "dataset = facenet.get_dataset(datadir)\n",
    "\n",
    "minsize = 20  # minimum size of face\n",
    "threshold = [0.6, 0.7, 0.7]  # three steps's threshold\n",
    "factor = 0.709  # scale factor\n",
    "margin = 44\n",
    "image_size = 182"
   ]
  },
  {
   "cell_type": "code",
   "execution_count": null,
   "metadata": {
    "collapsed": true
   },
   "outputs": [],
   "source": [
    "def detect_and_align_mtcnn():\n",
    "    \n",
    "    \n",
    "    # load MTCNN\n",
    "    with tf.Graph().as_default():\n",
    "#         gpu_options = tf.GPUOptions(per_process_gpu_memory_fraction=0.5)\n",
    "#         sess = tf.Session(config=tf.ConfigProto(gpu_options=gpu_options, log_device_placement=False))\n",
    "        sess = tf.Session(config=tf.ConfigProto())\n",
    "        with sess.as_default():\n",
    "            pnet, rnet, onet = detect_face.create_mtcnn(sess, path_to_mtcnn_model)\n",
    "    \n",
    "    \n",
    "    nrof_images_total = 0\n",
    "    nrof_successfully_aligned = 0\n",
    "    pbar = tqdm(dataset)\n",
    "    for cls in pbar:\n",
    "        output_class_dir = os.path.join(outdir, cls.name)\n",
    "        if not os.path.exists(output_class_dir):\n",
    "            os.makedirs(output_class_dir)\n",
    "        for image_path in cls.image_paths:\n",
    "            nrof_images_total += 1\n",
    "            filename = os.path.splitext(os.path.split(image_path)[1])[0]\n",
    "            output_filename = os.path.join(output_class_dir, filename + '.jpg')\n",
    "            \n",
    "            if not os.path.exists(output_filename):\n",
    "                try:\n",
    "                    img = cv2.imread(image_path)\n",
    "\n",
    "                except (IOError, ValueError, IndexError) as e:\n",
    "                    errorMessage = '{}: {}'.format(image_path, e)\n",
    "                    print(errorMessage)\n",
    "                else:\n",
    "                    if img.ndim < 2:\n",
    "                        print('Unable to align \"%s\"' % image_path)\n",
    "                        text_file.write('%s\\n' % (output_filename))\n",
    "                        continue\n",
    "                    if img.ndim == 2:\n",
    "                        img = facenet.to_rgb(img)\n",
    "                        print('to_rgb data dimension: ', img.ndim)\n",
    "                    img = img[:, :, 0:3]\n",
    "\n",
    "\n",
    "                    bounding_boxes, _ = detect_face.detect_face(img, minsize, pnet, rnet, onet, threshold, factor)\n",
    "                    nrof_faces = bounding_boxes.shape[0]\n",
    "                    \n",
    "#                     pbar.set_description('image: {}, faces: {}'.format(image_path, nrof_faces))\n",
    "                    \n",
    "                    \n",
    "                    if nrof_faces > 0:\n",
    "                        \n",
    "                        for face_position in bounding_boxes:\n",
    "                            face_position = face_position.astype(int)\n",
    "                            \n",
    "#                             cv2.rectangle(x, (face_position[0], face_position[1]), (face_position[2], face_position[3]), (0, 255, 0), 2)\n",
    "                            crop = img[face_position[1]:face_position[3],\n",
    "                                 face_position[0]:face_position[2],]\n",
    "                            try:\n",
    "                                crop = cv2.resize(crop, (image_size, image_size), interpolation=cv2.INTER_CUBIC )\n",
    "                            except:\n",
    "                                print('err:', image_path)\n",
    "                                print()\n",
    "\n",
    "#                             crop_data = crop.reshape(-1,image_size,image_size,3)                       \n",
    "                        nrof_successfully_aligned += 1\n",
    "                        cv2.imwrite(output_filename, crop)\n",
    "\n",
    "                    else:\n",
    "                        print('Unable to align \"%s\"' % image_path)\n",
    "                        print(bounding_boxes)\n",
    "                            \n",
    "\n",
    "    print('Total number of images: %d' % nrof_images_total)\n",
    "    print('Number of successfully aligned images: %d' % nrof_successfully_aligned)\n",
    "    return [nrof_images_total, nrof_successfully_aligned]\n"
   ]
  },
  {
   "cell_type": "code",
   "execution_count": null,
   "metadata": {
    "scrolled": true
   },
   "outputs": [],
   "source": [
    "detect_and_align_mtcnn()"
   ]
  },
  {
   "cell_type": "code",
   "execution_count": 33,
   "metadata": {},
   "outputs": [],
   "source": [
    "import cv2\n",
    "\n",
    "image_path = '/media/neelansh/Windows/Users/neela/Documents/facerecog_data/vggface2_test/n000001/0008_01.jpg'\n",
    "img = cv2.imread(image_path)\n",
    "bounding_boxes, _ = detect_face.detect_face(img, minsize, pnet, rnet, onet, threshold, factor)"
   ]
  },
  {
   "cell_type": "code",
   "execution_count": 34,
   "metadata": {},
   "outputs": [
    {
     "data": {
      "text/plain": [
       "array([[  97.29995346,   44.94394804,  214.72431148,  203.51950396,\n",
       "           0.99865282]])"
      ]
     },
     "execution_count": 34,
     "metadata": {},
     "output_type": "execute_result"
    }
   ],
   "source": [
    "bounding_boxes"
   ]
  },
  {
   "cell_type": "code",
   "execution_count": 35,
   "metadata": {},
   "outputs": [
    {
     "name": "stdout",
     "output_type": "stream",
     "text": [
      "Creating networks and loading parameters\n",
      "Goodluck\n",
      "ERROR: /media/neelansh/Windows/Users/neela/Documents/facerecog_data/vggface2_test/n000001/0010_01.jpg\n",
      "shape (270, 375, 3)\n",
      "cropped shape (0, 150, 3)\n",
      "Total number of images: 40\n",
      "Number of successfully aligned images: 39\n"
     ]
    }
   ],
   "source": [
    "from __future__ import absolute_import\n",
    "from __future__ import division\n",
    "from __future__ import print_function\n",
    "\n",
    "from scipy import misc\n",
    "import sys\n",
    "import os\n",
    "import argparse\n",
    "import tensorflow as tf\n",
    "import numpy as np\n",
    "import facenet\n",
    "import detect_face\n",
    "import random\n",
    "from time import sleep\n",
    "from matplotlib import pyplot as plt\n",
    "\n",
    "%matplotlib inline\n",
    "\n",
    "output_dir_path = '/media/neelansh/Windows/Users/neela/Documents/facerecog_data/vggface2_aligned'\n",
    "output_dir = os.path.expanduser(output_dir_path)\n",
    "if not os.path.exists(output_dir):\n",
    "        os.makedirs(output_dir)\n",
    "\n",
    "datadir = '/media/neelansh/Windows/Users/neela/Documents/facerecog_data/vggface2_test'\n",
    "dataset = facenet.get_dataset(datadir)\n",
    "\n",
    "print('Creating networks and loading parameters')\n",
    "with tf.Graph().as_default():\n",
    "    sess = tf.Session(config=tf.ConfigProto(log_device_placement=False))\n",
    "    with sess.as_default():\n",
    "        pnet, rnet, onet = detect_face.create_mtcnn(sess, './models')\n",
    "\n",
    "minsize = 20  # minimum size of face\n",
    "threshold = [0.6, 0.7, 0.7]  # three steps's threshold\n",
    "factor = 0.709  # scale factor\n",
    "margin = 44\n",
    "image_size = 182\n",
    "\n",
    "# Add a random key to the filename to allow alignment using multiple processes\n",
    "random_key = np.random.randint(0, high=99999)\n",
    "bounding_boxes_filename = os.path.join(output_dir, 'bounding_boxes_%05d.txt' % random_key)\n",
    "print('Goodluck')\n",
    "\n",
    "with open(bounding_boxes_filename, \"w\") as text_file:\n",
    "    nrof_images_total = 0\n",
    "    nrof_successfully_aligned = 0\n",
    "    for cls in dataset:\n",
    "        output_class_dir = os.path.join(output_dir, cls.name)\n",
    "        if not os.path.exists(output_class_dir):\n",
    "            os.makedirs(output_class_dir)\n",
    "        for image_path in cls.image_paths:\n",
    "            nrof_images_total += 1\n",
    "            filename = os.path.splitext(os.path.split(image_path)[1])[0]\n",
    "            output_filename = os.path.join(output_class_dir, filename + '.jpg')\n",
    "            \n",
    "            if not os.path.exists(output_filename):\n",
    "                try:\n",
    "                    img = misc.imread(image_path)\n",
    "                    \n",
    "                except (IOError, ValueError, IndexError) as e:\n",
    "                    errorMessage = '{}: {}'.format(image_path, e)\n",
    "                    print(errorMessage)\n",
    "                else:\n",
    "                    if img.ndim < 2:\n",
    "                        print('Unable to align \"%s\"' % image_path)\n",
    "                        text_file.write('%s\\n' % (output_filename))\n",
    "                        continue\n",
    "                    if img.ndim == 2:\n",
    "                        img = facenet.to_rgb(img)\n",
    "                        print('to_rgb data dimension: ', img.ndim)\n",
    "                    img = img[:, :, 0:3]\n",
    "                    \n",
    "\n",
    "                    bounding_boxes, _ = detect_face.detect_face(img, minsize, pnet, rnet, onet, threshold, factor)\n",
    "                    nrof_faces = bounding_boxes.shape[0]\n",
    "                    \n",
    "                    if nrof_faces > 0:\n",
    "                        det = bounding_boxes[:, 0:4]\n",
    "                        img_size = np.asarray(img.shape)[0:2]\n",
    "                        if nrof_faces > 1:\n",
    "                            bounding_box_size = (det[:, 2] - det[:, 0]) * (det[:, 3] - det[:, 1])\n",
    "                            img_center = img_size / 2\n",
    "                            offsets = np.vstack([(det[:, 0] + det[:, 2]) / 2 - img_center[1],\n",
    "                                                 (det[:, 1] + det[:, 3]) / 2 - img_center[0]])\n",
    "                            offset_dist_squared = np.sum(np.power(offsets, 2.0), 0)\n",
    "                            index = np.argmax(bounding_box_size - offset_dist_squared * 2.0)  # some extra weight on the centering\n",
    "                            det = det[index, :]\n",
    "                        det = np.squeeze(det)\n",
    "                        bb_temp = np.zeros(4, dtype=np.int32)\n",
    "\n",
    "                        bb_temp[0] = det[0]\n",
    "                        bb_temp[1] = det[1]\n",
    "                        bb_temp[2] = det[2]\n",
    "                        bb_temp[3] = det[3]\n",
    "\n",
    "                        cropped_temp = img[bb_temp[1]:bb_temp[3], bb_temp[0]:bb_temp[2], :]\n",
    "                        \n",
    "                        try:\n",
    "                            scaled_temp = misc.imresize(cropped_temp, (image_size, image_size), interp='bilinear')\n",
    "                        except:\n",
    "                            print('ERROR:', image_path)\n",
    "                            print('shape', img.shape)\n",
    "                            print('cropped shape', cropped_temp.shape)\n",
    "                            text_file.write('%s %d %d %d %d\\n' % (output_filename, bb_temp[0], bb_temp[1], bb_temp[2], bb_temp[3]))\n",
    "                            continue;\n",
    "                        \n",
    "                        \n",
    "                        nrof_successfully_aligned += 1\n",
    "                        misc.imsave(output_filename, scaled_temp)\n",
    "#                         text_file.write('%s %d %d %d %d\\n' % (output_filename, bb_temp[0], bb_temp[1], bb_temp[2], bb_temp[3]))\n",
    "                    else:\n",
    "                        print('Unable to align \"%s\"' % image_path)\n",
    "                        text_file.write('%s\\n' % (output_filename))\n",
    "\n",
    "print('Total number of images: %d' % nrof_images_total)\n",
    "print('Number of successfully aligned images: %d' % nrof_successfully_aligned)"
   ]
  },
  {
   "cell_type": "code",
   "execution_count": 1,
   "metadata": {},
   "outputs": [
    {
     "ename": "AttributeError",
     "evalue": "'dict' object has no attribute 'output_dir'",
     "output_type": "error",
     "traceback": [
      "\u001b[0;31m---------------------------------------------------------------------------\u001b[0m",
      "\u001b[0;31mAttributeError\u001b[0m                            Traceback (most recent call last)",
      "\u001b[0;32m<ipython-input-1-b230c48a446c>\u001b[0m in \u001b[0;36m<module>\u001b[0;34m()\u001b[0m\n\u001b[1;32m      1\u001b[0m \u001b[0;32mfrom\u001b[0m \u001b[0mfacealign\u001b[0m \u001b[0;32mimport\u001b[0m \u001b[0mdetect_align\u001b[0m\u001b[0;34m\u001b[0m\u001b[0m\n\u001b[1;32m      2\u001b[0m \u001b[0;34m\u001b[0m\u001b[0m\n\u001b[0;32m----> 3\u001b[0;31m \u001b[0mdetect_align\u001b[0m\u001b[0;34m(\u001b[0m\u001b[0;34m)\u001b[0m\u001b[0;34m\u001b[0m\u001b[0m\n\u001b[0m",
      "\u001b[0;32m~/FaceRecog/facealign.py\u001b[0m in \u001b[0;36mdetect_align\u001b[0;34m()\u001b[0m\n\u001b[1;32m     49\u001b[0m     \u001b[0margs\u001b[0m\u001b[0;34m[\u001b[0m\u001b[0;34m'detect_multiple_faces'\u001b[0m\u001b[0;34m]\u001b[0m \u001b[0;34m=\u001b[0m \u001b[0;32mFalse\u001b[0m\u001b[0;34m\u001b[0m\u001b[0m\n\u001b[1;32m     50\u001b[0m     \u001b[0msleep\u001b[0m\u001b[0;34m(\u001b[0m\u001b[0mrandom\u001b[0m\u001b[0;34m.\u001b[0m\u001b[0mrandom\u001b[0m\u001b[0;34m(\u001b[0m\u001b[0;34m)\u001b[0m\u001b[0;34m)\u001b[0m\u001b[0;34m\u001b[0m\u001b[0m\n\u001b[0;32m---> 51\u001b[0;31m     \u001b[0moutput_dir\u001b[0m \u001b[0;34m=\u001b[0m \u001b[0mos\u001b[0m\u001b[0;34m.\u001b[0m\u001b[0mpath\u001b[0m\u001b[0;34m.\u001b[0m\u001b[0mexpanduser\u001b[0m\u001b[0;34m(\u001b[0m\u001b[0margs\u001b[0m\u001b[0;34m.\u001b[0m\u001b[0moutput_dir\u001b[0m\u001b[0;34m)\u001b[0m\u001b[0;34m\u001b[0m\u001b[0m\n\u001b[0m\u001b[1;32m     52\u001b[0m     \u001b[0;32mif\u001b[0m \u001b[0;32mnot\u001b[0m \u001b[0mos\u001b[0m\u001b[0;34m.\u001b[0m\u001b[0mpath\u001b[0m\u001b[0;34m.\u001b[0m\u001b[0mexists\u001b[0m\u001b[0;34m(\u001b[0m\u001b[0moutput_dir\u001b[0m\u001b[0;34m)\u001b[0m\u001b[0;34m:\u001b[0m\u001b[0;34m\u001b[0m\u001b[0m\n\u001b[1;32m     53\u001b[0m         \u001b[0mos\u001b[0m\u001b[0;34m.\u001b[0m\u001b[0mmakedirs\u001b[0m\u001b[0;34m(\u001b[0m\u001b[0moutput_dir\u001b[0m\u001b[0;34m)\u001b[0m\u001b[0;34m\u001b[0m\u001b[0m\n",
      "\u001b[0;31mAttributeError\u001b[0m: 'dict' object has no attribute 'output_dir'"
     ]
    }
   ],
   "source": [
    "from facealign import detect_align\n",
    "\n",
    "detect_align()"
   ]
  },
  {
   "cell_type": "code",
   "execution_count": null,
   "metadata": {
    "collapsed": true
   },
   "outputs": [],
   "source": []
  }
 ],
 "metadata": {
  "kernelspec": {
   "display_name": "Python 3",
   "language": "python",
   "name": "python3"
  },
  "language_info": {
   "codemirror_mode": {
    "name": "ipython",
    "version": 3
   },
   "file_extension": ".py",
   "mimetype": "text/x-python",
   "name": "python",
   "nbconvert_exporter": "python",
   "pygments_lexer": "ipython3",
   "version": "3.6.2"
  }
 },
 "nbformat": 4,
 "nbformat_minor": 2
}
